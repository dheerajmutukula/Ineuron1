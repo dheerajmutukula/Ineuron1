{
 "cells": [
  {
   "cell_type": "markdown",
   "id": "76df9b50",
   "metadata": {},
   "source": [
    "1. Values : 'hello' , -87.8, 6\n",
    "    Expressions : * , - , /, +"
   ]
  },
  {
   "cell_type": "markdown",
   "id": "8b5f5f05",
   "metadata": {},
   "source": [
    "2. A variable is used to store information, and a String is a type of information you would store in a variable"
   ]
  },
  {
   "cell_type": "markdown",
   "id": "372cbd08",
   "metadata": {},
   "source": [
    "3. Int,String,Bool"
   ]
  },
  {
   "cell_type": "markdown",
   "id": "2413b38c",
   "metadata": {},
   "source": [
    "4. Expressions are made up of operators. Expressions do all kind of operations like mathematical operations,logical operations,string operations,e.t.c.,"
   ]
  },
  {
   "cell_type": "markdown",
   "id": "15e0ee85",
   "metadata": {},
   "source": [
    "5. Statement like spam = 10 won't perform an operations.But expressions will perform an operation and return the result\n"
   ]
  },
  {
   "cell_type": "markdown",
   "id": "9c6a8d8a",
   "metadata": {},
   "source": [
    "6. bacon = 22\n",
    "bacon + 1\n",
    "After running this code the variable bacon contain 23"
   ]
  },
  {
   "cell_type": "markdown",
   "id": "acc8dc7c",
   "metadata": {},
   "source": [
    "7. 'spam'+'spamspam' = spamspamspam;\n",
    "    'spam'*3 = spamspamspam"
   ]
  },
  {
   "cell_type": "markdown",
   "id": "d0eab865",
   "metadata": {},
   "source": [
    "8. egg is a valid variable name compare to 100 because variable names can't be start with any of the integer or special symbol except _."
   ]
  },
  {
   "cell_type": "markdown",
   "id": "04445434",
   "metadata": {},
   "source": [
    "9. integer - int(), string - str(), floating point - float()"
   ]
  },
  {
   "cell_type": "markdown",
   "id": "34fffc06",
   "metadata": {},
   "source": [
    "10. 'I have eaten'+99+ 'Burritos' In this statement they tried to concatinate string with integer which is not possible in python. To rectify that we can  write like this 'I have eaten'+'99'+ 'Burritos'"
   ]
  }
 ],
 "metadata": {
  "kernelspec": {
   "display_name": "Python 3 (ipykernel)",
   "language": "python",
   "name": "python3"
  },
  "language_info": {
   "codemirror_mode": {
    "name": "ipython",
    "version": 3
   },
   "file_extension": ".py",
   "mimetype": "text/x-python",
   "name": "python",
   "nbconvert_exporter": "python",
   "pygments_lexer": "ipython3",
   "version": "3.10.9"
  }
 },
 "nbformat": 4,
 "nbformat_minor": 5
}
